{
 "cells": [
  {
   "cell_type": "code",
   "execution_count": 1,
   "metadata": {},
   "outputs": [
    {
     "name": "stdout",
     "output_type": "stream",
     "text": [
      "8\n",
      "7\n",
      "6\n",
      "5\n",
      "4\n",
      "3\n",
      "2\n",
      "1\n",
      "0\n"
     ]
    }
   ],
   "source": [
    "for i in range(10 - 2, -1, -1):\n",
    "    print(i)"
   ]
  },
  {
   "cell_type": "code",
   "execution_count": 2,
   "metadata": {},
   "outputs": [],
   "source": [
    "def SubArraySum(arr, n):\n",
    "    temp,result = 0,0\n",
    " \n",
    "    # Pick starting point\n",
    "    for i in range(0, n):\n",
    " \n",
    "        # Pick ending point\n",
    "        temp=0\n",
    "        for j in range(i, n):\n",
    " \n",
    "            # sum subarray between\n",
    "            # current starting and\n",
    "            # ending points\n",
    "            temp+=arr[j]\n",
    "            result += temp\n",
    "    return result\n",
    " \n"
   ]
  },
  {
   "cell_type": "code",
   "execution_count": 6,
   "metadata": {},
   "outputs": [],
   "source": [
    "# driver program\n",
    "arr = [1, 2, 3]\n",
    "n = len(arr)\n",
    "print (\"Sum of SubArray :\"\n",
    "       ,SubArraySum(arr, n))"
   ]
  }
 ],
 "metadata": {
  "kernelspec": {
   "display_name": "Python 3.8.13 ('aipj')",
   "language": "python",
   "name": "python3"
  },
  "language_info": {
   "codemirror_mode": {
    "name": "ipython",
    "version": 3
   },
   "file_extension": ".py",
   "mimetype": "text/x-python",
   "name": "python",
   "nbconvert_exporter": "python",
   "pygments_lexer": "ipython3",
   "version": "3.8.13"
  },
  "orig_nbformat": 4,
  "vscode": {
   "interpreter": {
    "hash": "220d0234d47a3ba360cce9257b10baed9fa1b64daed4ccaa8103fe1bed384bbc"
   }
  }
 },
 "nbformat": 4,
 "nbformat_minor": 2
}
